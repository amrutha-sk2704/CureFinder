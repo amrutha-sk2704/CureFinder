{
 "cells": [
  {
   "cell_type": "code",
   "execution_count": 2,
   "id": "200102d4",
   "metadata": {},
   "outputs": [],
   "source": [
    "# Importing necessary libraries\n",
    "import pandas as pd \n",
    "from pandas import read_csv\n",
    "import numpy as np\n",
    "import matplotlib.pyplot as plt"
   ]
  },
  {
   "cell_type": "code",
   "execution_count": 3,
   "id": "0e6a319a",
   "metadata": {},
   "outputs": [
    {
     "data": {
      "text/html": [
       "<div>\n",
       "<style scoped>\n",
       "    .dataframe tbody tr th:only-of-type {\n",
       "        vertical-align: middle;\n",
       "    }\n",
       "\n",
       "    .dataframe tbody tr th {\n",
       "        vertical-align: top;\n",
       "    }\n",
       "\n",
       "    .dataframe thead th {\n",
       "        text-align: right;\n",
       "    }\n",
       "</style>\n",
       "<table border=\"1\" class=\"dataframe\">\n",
       "  <thead>\n",
       "    <tr style=\"text-align: right;\">\n",
       "      <th></th>\n",
       "      <th>fever_for_two_weeks</th>\n",
       "      <th>coughing_blood</th>\n",
       "      <th>sputum_mixed_with_blood</th>\n",
       "      <th>night_sweats</th>\n",
       "      <th>chest_pain</th>\n",
       "      <th>back_pain_in_certain_parts</th>\n",
       "      <th>shortness_of_breath</th>\n",
       "      <th>weight_loss</th>\n",
       "      <th>body_feels_tired</th>\n",
       "      <th>lumps_that_appear_around_the_armpits_and_neck</th>\n",
       "      <th>cough_and_phlegm_continuously_for_two_weeks_to_four_weeks</th>\n",
       "      <th>swollen_lymph_nodes</th>\n",
       "      <th>loss_of_appetite</th>\n",
       "      <th>dry_cough</th>\n",
       "      <th>difficulty_in_breathing</th>\n",
       "      <th>sore_throat</th>\n",
       "      <th>pains</th>\n",
       "      <th>nasal_congestion</th>\n",
       "      <th>runny_nose</th>\n",
       "      <th>prognosis</th>\n",
       "    </tr>\n",
       "  </thead>\n",
       "  <tbody>\n",
       "    <tr>\n",
       "      <th>0</th>\n",
       "      <td>1</td>\n",
       "      <td>0</td>\n",
       "      <td>0</td>\n",
       "      <td>0</td>\n",
       "      <td>1</td>\n",
       "      <td>0</td>\n",
       "      <td>0</td>\n",
       "      <td>1</td>\n",
       "      <td>1</td>\n",
       "      <td>0</td>\n",
       "      <td>1</td>\n",
       "      <td>1</td>\n",
       "      <td>0</td>\n",
       "      <td>0</td>\n",
       "      <td>0</td>\n",
       "      <td>0</td>\n",
       "      <td>0</td>\n",
       "      <td>0</td>\n",
       "      <td>0</td>\n",
       "      <td>aasthma</td>\n",
       "    </tr>\n",
       "    <tr>\n",
       "      <th>1</th>\n",
       "      <td>1</td>\n",
       "      <td>1</td>\n",
       "      <td>0</td>\n",
       "      <td>1</td>\n",
       "      <td>0</td>\n",
       "      <td>1</td>\n",
       "      <td>1</td>\n",
       "      <td>0</td>\n",
       "      <td>1</td>\n",
       "      <td>0</td>\n",
       "      <td>0</td>\n",
       "      <td>0</td>\n",
       "      <td>1</td>\n",
       "      <td>0</td>\n",
       "      <td>0</td>\n",
       "      <td>0</td>\n",
       "      <td>0</td>\n",
       "      <td>0</td>\n",
       "      <td>0</td>\n",
       "      <td>aasthma</td>\n",
       "    </tr>\n",
       "    <tr>\n",
       "      <th>2</th>\n",
       "      <td>1</td>\n",
       "      <td>1</td>\n",
       "      <td>0</td>\n",
       "      <td>1</td>\n",
       "      <td>0</td>\n",
       "      <td>1</td>\n",
       "      <td>0</td>\n",
       "      <td>0</td>\n",
       "      <td>0</td>\n",
       "      <td>0</td>\n",
       "      <td>0</td>\n",
       "      <td>1</td>\n",
       "      <td>0</td>\n",
       "      <td>0</td>\n",
       "      <td>0</td>\n",
       "      <td>0</td>\n",
       "      <td>0</td>\n",
       "      <td>0</td>\n",
       "      <td>0</td>\n",
       "      <td>aasthma</td>\n",
       "    </tr>\n",
       "    <tr>\n",
       "      <th>3</th>\n",
       "      <td>0</td>\n",
       "      <td>1</td>\n",
       "      <td>1</td>\n",
       "      <td>1</td>\n",
       "      <td>0</td>\n",
       "      <td>0</td>\n",
       "      <td>1</td>\n",
       "      <td>1</td>\n",
       "      <td>0</td>\n",
       "      <td>0</td>\n",
       "      <td>1</td>\n",
       "      <td>1</td>\n",
       "      <td>0</td>\n",
       "      <td>0</td>\n",
       "      <td>0</td>\n",
       "      <td>0</td>\n",
       "      <td>0</td>\n",
       "      <td>0</td>\n",
       "      <td>0</td>\n",
       "      <td>aasthma</td>\n",
       "    </tr>\n",
       "    <tr>\n",
       "      <th>4</th>\n",
       "      <td>1</td>\n",
       "      <td>1</td>\n",
       "      <td>0</td>\n",
       "      <td>1</td>\n",
       "      <td>0</td>\n",
       "      <td>1</td>\n",
       "      <td>0</td>\n",
       "      <td>1</td>\n",
       "      <td>0</td>\n",
       "      <td>1</td>\n",
       "      <td>1</td>\n",
       "      <td>1</td>\n",
       "      <td>1</td>\n",
       "      <td>0</td>\n",
       "      <td>0</td>\n",
       "      <td>0</td>\n",
       "      <td>0</td>\n",
       "      <td>0</td>\n",
       "      <td>0</td>\n",
       "      <td>aasthma</td>\n",
       "    </tr>\n",
       "  </tbody>\n",
       "</table>\n",
       "</div>"
      ],
      "text/plain": [
       "   fever_for_two_weeks  coughing_blood  sputum_mixed_with_blood  \\\n",
       "0                    1               0                        0   \n",
       "1                    1               1                        0   \n",
       "2                    1               1                        0   \n",
       "3                    0               1                        1   \n",
       "4                    1               1                        0   \n",
       "\n",
       "   night_sweats   chest_pain  back_pain_in_certain_parts   \\\n",
       "0              0           1                            0   \n",
       "1              1           0                            1   \n",
       "2              1           0                            1   \n",
       "3              1           0                            0   \n",
       "4              1           0                            1   \n",
       "\n",
       "   shortness_of_breath  weight_loss   body_feels_tired  \\\n",
       "0                    0             1                 1   \n",
       "1                    1             0                 1   \n",
       "2                    0             0                 0   \n",
       "3                    1             1                 0   \n",
       "4                    0             1                 0   \n",
       "\n",
       "   lumps_that_appear_around_the_armpits_and_neck  \\\n",
       "0                                              0   \n",
       "1                                              0   \n",
       "2                                              0   \n",
       "3                                              0   \n",
       "4                                              1   \n",
       "\n",
       "   cough_and_phlegm_continuously_for_two_weeks_to_four_weeks  \\\n",
       "0                                                  1           \n",
       "1                                                  0           \n",
       "2                                                  0           \n",
       "3                                                  1           \n",
       "4                                                  1           \n",
       "\n",
       "   swollen_lymph_nodes  loss_of_appetite  dry_cough  difficulty_in_breathing  \\\n",
       "0                    1                 0          0                        0   \n",
       "1                    0                 1          0                        0   \n",
       "2                    1                 0          0                        0   \n",
       "3                    1                 0          0                        0   \n",
       "4                    1                 1          0                        0   \n",
       "\n",
       "   sore_throat  pains  nasal_congestion  runny_nose prognosis  \n",
       "0            0      0                 0           0   aasthma  \n",
       "1            0      0                 0           0   aasthma  \n",
       "2            0      0                 0           0   aasthma  \n",
       "3            0      0                 0           0   aasthma  \n",
       "4            0      0                 0           0   aasthma  "
      ]
     },
     "execution_count": 3,
     "metadata": {},
     "output_type": "execute_result"
    }
   ],
   "source": [
    "# Loading data\n",
    "filename = 'Training.csv'\n",
    "data = read_csv(filename)\n",
    "data.head()"
   ]
  },
  {
   "cell_type": "code",
   "execution_count": 4,
   "id": "dd03a403",
   "metadata": {},
   "outputs": [
    {
     "data": {
      "text/html": [
       "<div>\n",
       "<style scoped>\n",
       "    .dataframe tbody tr th:only-of-type {\n",
       "        vertical-align: middle;\n",
       "    }\n",
       "\n",
       "    .dataframe tbody tr th {\n",
       "        vertical-align: top;\n",
       "    }\n",
       "\n",
       "    .dataframe thead th {\n",
       "        text-align: right;\n",
       "    }\n",
       "</style>\n",
       "<table border=\"1\" class=\"dataframe\">\n",
       "  <thead>\n",
       "    <tr style=\"text-align: right;\">\n",
       "      <th></th>\n",
       "      <th>fever_for_two_weeks</th>\n",
       "      <th>coughing_blood</th>\n",
       "      <th>sputum_mixed_with_blood</th>\n",
       "      <th>night_sweats</th>\n",
       "      <th>chest_pain</th>\n",
       "      <th>back_pain_in_certain_parts</th>\n",
       "      <th>shortness_of_breath</th>\n",
       "      <th>weight_loss</th>\n",
       "      <th>body_feels_tired</th>\n",
       "      <th>lumps_that_appear_around_the_armpits_and_neck</th>\n",
       "      <th>cough_and_phlegm_continuously_for_two_weeks_to_four_weeks</th>\n",
       "      <th>swollen_lymph_nodes</th>\n",
       "      <th>loss_of_appetite</th>\n",
       "      <th>dry_cough</th>\n",
       "      <th>difficulty_in_breathing</th>\n",
       "      <th>sore_throat</th>\n",
       "      <th>pains</th>\n",
       "      <th>nasal_congestion</th>\n",
       "      <th>runny_nose</th>\n",
       "      <th>prognosis</th>\n",
       "    </tr>\n",
       "  </thead>\n",
       "  <tbody>\n",
       "    <tr>\n",
       "      <th>0</th>\n",
       "      <td>0</td>\n",
       "      <td>1</td>\n",
       "      <td>0</td>\n",
       "      <td>1</td>\n",
       "      <td>0</td>\n",
       "      <td>1</td>\n",
       "      <td>1</td>\n",
       "      <td>1</td>\n",
       "      <td>1</td>\n",
       "      <td>1</td>\n",
       "      <td>0</td>\n",
       "      <td>0</td>\n",
       "      <td>0</td>\n",
       "      <td>0</td>\n",
       "      <td>0</td>\n",
       "      <td>0</td>\n",
       "      <td>0</td>\n",
       "      <td>0</td>\n",
       "      <td>0</td>\n",
       "      <td>aasthma</td>\n",
       "    </tr>\n",
       "    <tr>\n",
       "      <th>1</th>\n",
       "      <td>0</td>\n",
       "      <td>0</td>\n",
       "      <td>0</td>\n",
       "      <td>0</td>\n",
       "      <td>0</td>\n",
       "      <td>0</td>\n",
       "      <td>0</td>\n",
       "      <td>0</td>\n",
       "      <td>0</td>\n",
       "      <td>0</td>\n",
       "      <td>0</td>\n",
       "      <td>0</td>\n",
       "      <td>0</td>\n",
       "      <td>0</td>\n",
       "      <td>0</td>\n",
       "      <td>1</td>\n",
       "      <td>1</td>\n",
       "      <td>1</td>\n",
       "      <td>0</td>\n",
       "      <td>tuberculosis</td>\n",
       "    </tr>\n",
       "  </tbody>\n",
       "</table>\n",
       "</div>"
      ],
      "text/plain": [
       "   fever_for_two_weeks  coughing_blood  sputum_mixed_with_blood  \\\n",
       "0                    0               1                        0   \n",
       "1                    0               0                        0   \n",
       "\n",
       "   night_sweats   chest_pain  back_pain_in_certain_parts   \\\n",
       "0              1           0                            1   \n",
       "1              0           0                            0   \n",
       "\n",
       "   shortness_of_breath  weight_loss   body_feels_tired  \\\n",
       "0                    1             1                 1   \n",
       "1                    0             0                 0   \n",
       "\n",
       "   lumps_that_appear_around_the_armpits_and_neck  \\\n",
       "0                                              1   \n",
       "1                                              0   \n",
       "\n",
       "   cough_and_phlegm_continuously_for_two_weeks_to_four_weeks  \\\n",
       "0                                                  0           \n",
       "1                                                  0           \n",
       "\n",
       "   swollen_lymph_nodes  loss_of_appetite  dry_cough  difficulty_in_breathing  \\\n",
       "0                    0                 0          0                        0   \n",
       "1                    0                 0          0                        0   \n",
       "\n",
       "   sore_throat  pains  nasal_congestion  runny_nose     prognosis  \n",
       "0            0      0                 0           0       aasthma  \n",
       "1            1      1                 1           0  tuberculosis  "
      ]
     },
     "execution_count": 4,
     "metadata": {},
     "output_type": "execute_result"
    }
   ],
   "source": [
    "# Loading data\n",
    "filename = 'Testing.csv'\n",
    "d_f = read_csv(filename)\n",
    "d_f.head()"
   ]
  },
  {
   "cell_type": "markdown",
   "id": "ab87f743",
   "metadata": {},
   "source": [
    "### Train Test Split"
   ]
  },
  {
   "cell_type": "code",
   "execution_count": 5,
   "id": "0228dd7a",
   "metadata": {},
   "outputs": [],
   "source": [
    "# Feature selection\n",
    "df_x = data[['fever_for_two_weeks','coughing_blood','sputum_mixed_with_blood','night_sweats ','chest_pain','back_pain_in_certain_parts ','shortness_of_breath','weight_loss ','body_feels_tired','lumps_that_appear_around_the_armpits_and_neck','cough_and_phlegm_continuously_for_two_weeks_to_four_weeks','swollen_lymph_nodes','loss_of_appetite','dry_cough','difficulty_in_breathing','sore_throat','pains','nasal_congestion','runny_nose']]\n",
    "df_y = data[['prognosis']]             "
   ]
  },
  {
   "cell_type": "code",
   "execution_count": 6,
   "id": "19ce3b0e",
   "metadata": {},
   "outputs": [
    {
     "data": {
      "text/html": [
       "<div>\n",
       "<style scoped>\n",
       "    .dataframe tbody tr th:only-of-type {\n",
       "        vertical-align: middle;\n",
       "    }\n",
       "\n",
       "    .dataframe tbody tr th {\n",
       "        vertical-align: top;\n",
       "    }\n",
       "\n",
       "    .dataframe thead th {\n",
       "        text-align: right;\n",
       "    }\n",
       "</style>\n",
       "<table border=\"1\" class=\"dataframe\">\n",
       "  <thead>\n",
       "    <tr style=\"text-align: right;\">\n",
       "      <th></th>\n",
       "      <th>fever_for_two_weeks</th>\n",
       "      <th>coughing_blood</th>\n",
       "      <th>sputum_mixed_with_blood</th>\n",
       "      <th>night_sweats</th>\n",
       "      <th>chest_pain</th>\n",
       "      <th>back_pain_in_certain_parts</th>\n",
       "      <th>shortness_of_breath</th>\n",
       "      <th>weight_loss</th>\n",
       "      <th>body_feels_tired</th>\n",
       "      <th>lumps_that_appear_around_the_armpits_and_neck</th>\n",
       "      <th>cough_and_phlegm_continuously_for_two_weeks_to_four_weeks</th>\n",
       "      <th>swollen_lymph_nodes</th>\n",
       "      <th>loss_of_appetite</th>\n",
       "      <th>dry_cough</th>\n",
       "      <th>difficulty_in_breathing</th>\n",
       "      <th>sore_throat</th>\n",
       "      <th>pains</th>\n",
       "      <th>nasal_congestion</th>\n",
       "      <th>runny_nose</th>\n",
       "    </tr>\n",
       "  </thead>\n",
       "  <tbody>\n",
       "    <tr>\n",
       "      <th>0</th>\n",
       "      <td>1</td>\n",
       "      <td>0</td>\n",
       "      <td>0</td>\n",
       "      <td>0</td>\n",
       "      <td>1</td>\n",
       "      <td>0</td>\n",
       "      <td>0</td>\n",
       "      <td>1</td>\n",
       "      <td>1</td>\n",
       "      <td>0</td>\n",
       "      <td>1</td>\n",
       "      <td>1</td>\n",
       "      <td>0</td>\n",
       "      <td>0</td>\n",
       "      <td>0</td>\n",
       "      <td>0</td>\n",
       "      <td>0</td>\n",
       "      <td>0</td>\n",
       "      <td>0</td>\n",
       "    </tr>\n",
       "    <tr>\n",
       "      <th>1</th>\n",
       "      <td>1</td>\n",
       "      <td>1</td>\n",
       "      <td>0</td>\n",
       "      <td>1</td>\n",
       "      <td>0</td>\n",
       "      <td>1</td>\n",
       "      <td>1</td>\n",
       "      <td>0</td>\n",
       "      <td>1</td>\n",
       "      <td>0</td>\n",
       "      <td>0</td>\n",
       "      <td>0</td>\n",
       "      <td>1</td>\n",
       "      <td>0</td>\n",
       "      <td>0</td>\n",
       "      <td>0</td>\n",
       "      <td>0</td>\n",
       "      <td>0</td>\n",
       "      <td>0</td>\n",
       "    </tr>\n",
       "    <tr>\n",
       "      <th>2</th>\n",
       "      <td>1</td>\n",
       "      <td>1</td>\n",
       "      <td>0</td>\n",
       "      <td>1</td>\n",
       "      <td>0</td>\n",
       "      <td>1</td>\n",
       "      <td>0</td>\n",
       "      <td>0</td>\n",
       "      <td>0</td>\n",
       "      <td>0</td>\n",
       "      <td>0</td>\n",
       "      <td>1</td>\n",
       "      <td>0</td>\n",
       "      <td>0</td>\n",
       "      <td>0</td>\n",
       "      <td>0</td>\n",
       "      <td>0</td>\n",
       "      <td>0</td>\n",
       "      <td>0</td>\n",
       "    </tr>\n",
       "    <tr>\n",
       "      <th>3</th>\n",
       "      <td>0</td>\n",
       "      <td>1</td>\n",
       "      <td>1</td>\n",
       "      <td>1</td>\n",
       "      <td>0</td>\n",
       "      <td>0</td>\n",
       "      <td>1</td>\n",
       "      <td>1</td>\n",
       "      <td>0</td>\n",
       "      <td>0</td>\n",
       "      <td>1</td>\n",
       "      <td>1</td>\n",
       "      <td>0</td>\n",
       "      <td>0</td>\n",
       "      <td>0</td>\n",
       "      <td>0</td>\n",
       "      <td>0</td>\n",
       "      <td>0</td>\n",
       "      <td>0</td>\n",
       "    </tr>\n",
       "    <tr>\n",
       "      <th>4</th>\n",
       "      <td>1</td>\n",
       "      <td>1</td>\n",
       "      <td>0</td>\n",
       "      <td>1</td>\n",
       "      <td>0</td>\n",
       "      <td>1</td>\n",
       "      <td>0</td>\n",
       "      <td>1</td>\n",
       "      <td>0</td>\n",
       "      <td>1</td>\n",
       "      <td>1</td>\n",
       "      <td>1</td>\n",
       "      <td>1</td>\n",
       "      <td>0</td>\n",
       "      <td>0</td>\n",
       "      <td>0</td>\n",
       "      <td>0</td>\n",
       "      <td>0</td>\n",
       "      <td>0</td>\n",
       "    </tr>\n",
       "  </tbody>\n",
       "</table>\n",
       "</div>"
      ],
      "text/plain": [
       "   fever_for_two_weeks  coughing_blood  sputum_mixed_with_blood  \\\n",
       "0                    1               0                        0   \n",
       "1                    1               1                        0   \n",
       "2                    1               1                        0   \n",
       "3                    0               1                        1   \n",
       "4                    1               1                        0   \n",
       "\n",
       "   night_sweats   chest_pain  back_pain_in_certain_parts   \\\n",
       "0              0           1                            0   \n",
       "1              1           0                            1   \n",
       "2              1           0                            1   \n",
       "3              1           0                            0   \n",
       "4              1           0                            1   \n",
       "\n",
       "   shortness_of_breath  weight_loss   body_feels_tired  \\\n",
       "0                    0             1                 1   \n",
       "1                    1             0                 1   \n",
       "2                    0             0                 0   \n",
       "3                    1             1                 0   \n",
       "4                    0             1                 0   \n",
       "\n",
       "   lumps_that_appear_around_the_armpits_and_neck  \\\n",
       "0                                              0   \n",
       "1                                              0   \n",
       "2                                              0   \n",
       "3                                              0   \n",
       "4                                              1   \n",
       "\n",
       "   cough_and_phlegm_continuously_for_two_weeks_to_four_weeks  \\\n",
       "0                                                  1           \n",
       "1                                                  0           \n",
       "2                                                  0           \n",
       "3                                                  1           \n",
       "4                                                  1           \n",
       "\n",
       "   swollen_lymph_nodes  loss_of_appetite  dry_cough  difficulty_in_breathing  \\\n",
       "0                    1                 0          0                        0   \n",
       "1                    0                 1          0                        0   \n",
       "2                    1                 0          0                        0   \n",
       "3                    1                 0          0                        0   \n",
       "4                    1                 1          0                        0   \n",
       "\n",
       "   sore_throat  pains  nasal_congestion  runny_nose  \n",
       "0            0      0                 0           0  \n",
       "1            0      0                 0           0  \n",
       "2            0      0                 0           0  \n",
       "3            0      0                 0           0  \n",
       "4            0      0                 0           0  "
      ]
     },
     "execution_count": 6,
     "metadata": {},
     "output_type": "execute_result"
    }
   ],
   "source": [
    "df_x.head()"
   ]
  },
  {
   "cell_type": "code",
   "execution_count": 7,
   "id": "b725b2a6",
   "metadata": {},
   "outputs": [
    {
     "data": {
      "text/html": [
       "<div>\n",
       "<style scoped>\n",
       "    .dataframe tbody tr th:only-of-type {\n",
       "        vertical-align: middle;\n",
       "    }\n",
       "\n",
       "    .dataframe tbody tr th {\n",
       "        vertical-align: top;\n",
       "    }\n",
       "\n",
       "    .dataframe thead th {\n",
       "        text-align: right;\n",
       "    }\n",
       "</style>\n",
       "<table border=\"1\" class=\"dataframe\">\n",
       "  <thead>\n",
       "    <tr style=\"text-align: right;\">\n",
       "      <th></th>\n",
       "      <th>prognosis</th>\n",
       "    </tr>\n",
       "  </thead>\n",
       "  <tbody>\n",
       "    <tr>\n",
       "      <th>0</th>\n",
       "      <td>aasthma</td>\n",
       "    </tr>\n",
       "    <tr>\n",
       "      <th>1</th>\n",
       "      <td>aasthma</td>\n",
       "    </tr>\n",
       "    <tr>\n",
       "      <th>2</th>\n",
       "      <td>aasthma</td>\n",
       "    </tr>\n",
       "    <tr>\n",
       "      <th>3</th>\n",
       "      <td>aasthma</td>\n",
       "    </tr>\n",
       "    <tr>\n",
       "      <th>4</th>\n",
       "      <td>aasthma</td>\n",
       "    </tr>\n",
       "  </tbody>\n",
       "</table>\n",
       "</div>"
      ],
      "text/plain": [
       "  prognosis\n",
       "0   aasthma\n",
       "1   aasthma\n",
       "2   aasthma\n",
       "3   aasthma\n",
       "4   aasthma"
      ]
     },
     "execution_count": 7,
     "metadata": {},
     "output_type": "execute_result"
    }
   ],
   "source": [
    "df_y.head()"
   ]
  },
  {
   "cell_type": "code",
   "execution_count": 8,
   "id": "c2558ad3",
   "metadata": {},
   "outputs": [],
   "source": [
    "# Train Test Split\n",
    "from sklearn.model_selection import train_test_split\n",
    "X_train, X_test, y_train, y_test = train_test_split(df_x, df_y, test_size=0.2, random_state=0)"
   ]
  },
  {
   "cell_type": "code",
   "execution_count": 9,
   "id": "d9ddb705",
   "metadata": {},
   "outputs": [
    {
     "data": {
      "text/plain": [
       "(3200, 19)"
      ]
     },
     "execution_count": 9,
     "metadata": {},
     "output_type": "execute_result"
    }
   ],
   "source": [
    "X_train.shape"
   ]
  },
  {
   "cell_type": "code",
   "execution_count": 10,
   "id": "77e99457",
   "metadata": {},
   "outputs": [
    {
     "data": {
      "text/plain": [
       "(801, 19)"
      ]
     },
     "execution_count": 10,
     "metadata": {},
     "output_type": "execute_result"
    }
   ],
   "source": [
    "X_test.shape"
   ]
  },
  {
   "cell_type": "markdown",
   "id": "3b3e3b2b",
   "metadata": {},
   "source": [
    "### Gaussian Naive Bayes"
   ]
  },
  {
   "cell_type": "code",
   "execution_count": 11,
   "id": "4fa70277",
   "metadata": {},
   "outputs": [],
   "source": [
    "# Fitting Model\n",
    "from sklearn.naive_bayes import GaussianNB\n",
    "\n",
    "gnb = GaussianNB()\n",
    "gnb=gnb.fit(df_x,np.ravel(df_y))"
   ]
  },
  {
   "cell_type": "code",
   "execution_count": 12,
   "id": "c667307f",
   "metadata": {},
   "outputs": [
    {
     "name": "stdout",
     "output_type": "stream",
     "text": [
      "1.0\n",
      "801\n"
     ]
    }
   ],
   "source": [
    "from sklearn.metrics import accuracy_score\n",
    "y_pred=gnb.predict(X_test)\n",
    "print(accuracy_score(y_test, y_pred))\n",
    "print(accuracy_score(y_test, y_pred,normalize=False))"
   ]
  },
  {
   "cell_type": "code",
   "execution_count": 13,
   "id": "edbcde09",
   "metadata": {},
   "outputs": [
    {
     "name": "stdout",
     "output_type": "stream",
     "text": [
      "['tuberculosis' 'aasthma']\n"
     ]
    }
   ],
   "source": [
    "prediction = gnb.predict(X_test)\n",
    "print(prediction[0:2])"
   ]
  },
  {
   "cell_type": "code",
   "execution_count": 14,
   "id": "b3cb32d1",
   "metadata": {},
   "outputs": [
    {
     "data": {
      "text/plain": [
       "['model/naive_bayes.pkl']"
      ]
     },
     "execution_count": 14,
     "metadata": {},
     "output_type": "execute_result"
    }
   ],
   "source": [
    "# Dumping the model\n",
    "import joblib as joblib\n",
    "joblib.dump(gnb, 'model/naive_bayes.pkl')"
   ]
  },
  {
   "cell_type": "code",
   "execution_count": 15,
   "id": "fc5f0710",
   "metadata": {},
   "outputs": [],
   "source": [
    "# Loading the model\n",
    "nb = joblib.load('model/naive_bayes.pkl')"
   ]
  },
  {
   "cell_type": "code",
   "execution_count": 16,
   "id": "baecd1de",
   "metadata": {},
   "outputs": [
    {
     "name": "stdout",
     "output_type": "stream",
     "text": [
      "['tuberculosis' 'aasthma']\n"
     ]
    }
   ],
   "source": [
    "prediction = nb.predict(X_test)\n",
    "print(prediction[0:2])"
   ]
  },
  {
   "cell_type": "markdown",
   "id": "7d5ba3fd",
   "metadata": {},
   "source": [
    "### Making Prediction"
   ]
  },
  {
   "cell_type": "code",
   "execution_count": 17,
   "id": "6da9d9f7",
   "metadata": {},
   "outputs": [
    {
     "name": "stdout",
     "output_type": "stream",
     "text": [
      "19\n"
     ]
    }
   ],
   "source": [
    "list_a = ['fever_for_two_weeks','coughing_blood','sputum_mixed_with_blood','night_sweats ','chest_pain','back_pain_in_certain_parts ','shortness_of_breath','weight_loss ','body_feels_tired','lumps_that_appear_around_the_armpits_and_neck','cough_and_phlegm_continuously_for_two_weeks_to_four_weeks','swollen_lymph_nodes','loss_of_appetite','dry_cough','difficulty_in_breathing','sore_throat','pains','nasal_congestion','runny_nose']\n",
    "print(len(list_a))"
   ]
  },
  {
   "cell_type": "code",
   "execution_count": 18,
   "id": "098a70b3",
   "metadata": {},
   "outputs": [],
   "source": [
    "# Loop to convert all symptoms into 0's\n",
    "list_c = [] # Empty list to store diasese sympotms in 0's and 1's\n",
    "for x in range(0,len(list_a)):\n",
    "    list_c.append(0)"
   ]
  },
  {
   "cell_type": "code",
   "execution_count": 19,
   "id": "79079abc",
   "metadata": {},
   "outputs": [
    {
     "name": "stdout",
     "output_type": "stream",
     "text": [
      "[0, 0, 0, 0, 0, 0, 0, 0, 0, 0, 0, 0, 0, 0, 0, 0, 0, 0, 0]\n"
     ]
    }
   ],
   "source": [
    "print(list_c)"
   ]
  },
  {
   "cell_type": "code",
   "execution_count": 20,
   "id": "443d8e11",
   "metadata": {},
   "outputs": [],
   "source": [
    "list_b = ['sore_throat','pains','nasal_congestion','runny_nose','dry_cough']"
   ]
  },
  {
   "cell_type": "code",
   "execution_count": 21,
   "id": "94ec70a1",
   "metadata": {},
   "outputs": [
    {
     "name": "stdout",
     "output_type": "stream",
     "text": [
      "[0, 0, 0, 0, 0, 0, 0, 0, 0, 0, 0, 0, 0, 1, 0, 1, 1, 1, 1]\n"
     ]
    }
   ],
   "source": [
    "# For all matched specific disease sympotms in general put 1 and unmatched put 0 \n",
    "for z in range(0,len(list_a)):\n",
    "\tfor k in list_b:\n",
    "\t\tif(k==list_a[z]):\n",
    "\t\t\tlist_c[z]=1\n",
    "print(list_c)"
   ]
  },
  {
   "cell_type": "code",
   "execution_count": 22,
   "id": "a5a8cae4",
   "metadata": {},
   "outputs": [
    {
     "name": "stdout",
     "output_type": "stream",
     "text": [
      "(1, 19)\n"
     ]
    }
   ],
   "source": [
    "test = np.array(list_c)\n",
    "test = np.array(test).reshape(1,-1)\n",
    "print(test.shape)"
   ]
  },
  {
   "cell_type": "code",
   "execution_count": 23,
   "id": "493e08ae",
   "metadata": {},
   "outputs": [
    {
     "name": "stdout",
     "output_type": "stream",
     "text": [
      "tuberculosis\n"
     ]
    },
    {
     "name": "stderr",
     "output_type": "stream",
     "text": [
      "D:\\ana\\Lib\\site-packages\\sklearn\\base.py:464: UserWarning: X does not have valid feature names, but GaussianNB was fitted with feature names\n",
      "  warnings.warn(\n"
     ]
    }
   ],
   "source": [
    "prediction = nb.predict(test)\n",
    "print(prediction[0])"
   ]
  },
  {
   "cell_type": "markdown",
   "id": "2a558037",
   "metadata": {},
   "source": [
    "### Random Forest Classifier"
   ]
  },
  {
   "cell_type": "code",
   "execution_count": 24,
   "id": "5149fd9c",
   "metadata": {},
   "outputs": [],
   "source": [
    "from sklearn.ensemble import RandomForestClassifier\n",
    "rf = RandomForestClassifier()\n",
    "rf = rf.fit(df_x,np.ravel(df_y))"
   ]
  },
  {
   "cell_type": "code",
   "execution_count": 25,
   "id": "9acabd94",
   "metadata": {},
   "outputs": [
    {
     "name": "stdout",
     "output_type": "stream",
     "text": [
      "1.0\n",
      "801\n"
     ]
    }
   ],
   "source": [
    "from sklearn.metrics import accuracy_score\n",
    "y_pred=rf.predict(X_test)\n",
    "print(accuracy_score(y_test, y_pred))\n",
    "print(accuracy_score(y_test, y_pred,normalize=False))"
   ]
  },
  {
   "cell_type": "code",
   "execution_count": 26,
   "id": "26af0545",
   "metadata": {},
   "outputs": [
    {
     "name": "stdout",
     "output_type": "stream",
     "text": [
      "['tuberculosis' 'aasthma']\n"
     ]
    }
   ],
   "source": [
    "prediction = rf.predict(X_test)\n",
    "print(prediction[0:2])"
   ]
  },
  {
   "cell_type": "code",
   "execution_count": 27,
   "id": "b05d4cfc",
   "metadata": {},
   "outputs": [
    {
     "data": {
      "text/plain": [
       "['model/random_forest.pkl']"
      ]
     },
     "execution_count": 27,
     "metadata": {},
     "output_type": "execute_result"
    }
   ],
   "source": [
    "# Dumping the model\n",
    "import joblib as joblib\n",
    "joblib.dump(rf, 'model/random_forest.pkl')"
   ]
  },
  {
   "cell_type": "code",
   "execution_count": 28,
   "id": "f89eedf2",
   "metadata": {},
   "outputs": [],
   "source": [
    "# Loading the model\n",
    "rand_forest = joblib.load('model/random_forest.pkl')"
   ]
  },
  {
   "cell_type": "code",
   "execution_count": 29,
   "id": "199d02aa",
   "metadata": {},
   "outputs": [
    {
     "name": "stdout",
     "output_type": "stream",
     "text": [
      "['tuberculosis' 'aasthma']\n"
     ]
    }
   ],
   "source": [
    "prediction = rand_forest.predict(X_test)\n",
    "print(prediction[0:2])"
   ]
  },
  {
   "cell_type": "code",
   "execution_count": 30,
   "id": "100ad9d2",
   "metadata": {},
   "outputs": [
    {
     "name": "stdout",
     "output_type": "stream",
     "text": [
      "tuberculosis\n"
     ]
    },
    {
     "name": "stderr",
     "output_type": "stream",
     "text": [
      "D:\\ana\\Lib\\site-packages\\sklearn\\base.py:464: UserWarning: X does not have valid feature names, but RandomForestClassifier was fitted with feature names\n",
      "  warnings.warn(\n"
     ]
    }
   ],
   "source": [
    "prediction = rand_forest.predict(test)\n",
    "print(prediction[0])"
   ]
  },
  {
   "cell_type": "markdown",
   "id": "d5b01393",
   "metadata": {},
   "source": [
    "### Decision Tree"
   ]
  },
  {
   "cell_type": "code",
   "execution_count": 31,
   "id": "5e7bb491",
   "metadata": {},
   "outputs": [],
   "source": [
    "from sklearn import tree\n",
    "\n",
    "clf = tree.DecisionTreeClassifier()   # empty model of the decision tree\n",
    "clf = clf.fit(df_x,df_y)"
   ]
  },
  {
   "cell_type": "code",
   "execution_count": 33,
   "id": "a75b0649",
   "metadata": {},
   "outputs": [
    {
     "name": "stdout",
     "output_type": "stream",
     "text": [
      "1.0\n",
      "801\n"
     ]
    }
   ],
   "source": [
    "from sklearn.metrics import accuracy_score\n",
    "y_pred=clf.predict(X_test)\n",
    "print(accuracy_score(y_test, y_pred))\n",
    "print(accuracy_score(y_test, y_pred,normalize=False))"
   ]
  },
  {
   "cell_type": "code",
   "execution_count": 34,
   "id": "df72a51d",
   "metadata": {},
   "outputs": [
    {
     "data": {
      "text/plain": [
       "['model/decision_tree.pkl']"
      ]
     },
     "execution_count": 34,
     "metadata": {},
     "output_type": "execute_result"
    }
   ],
   "source": [
    "# Dumping the model\n",
    "import joblib as joblib\n",
    "joblib.dump(clf, 'model/decision_tree.pkl')"
   ]
  },
  {
   "cell_type": "code",
   "execution_count": 35,
   "id": "8579d092",
   "metadata": {},
   "outputs": [],
   "source": [
    "# Loading the model\n",
    "dt = joblib.load('model/decision_tree.pkl')"
   ]
  },
  {
   "cell_type": "code",
   "execution_count": 36,
   "id": "59494d87",
   "metadata": {},
   "outputs": [
    {
     "name": "stdout",
     "output_type": "stream",
     "text": [
      "tuberculosis\n"
     ]
    },
    {
     "name": "stderr",
     "output_type": "stream",
     "text": [
      "D:\\ana\\Lib\\site-packages\\sklearn\\base.py:464: UserWarning: X does not have valid feature names, but DecisionTreeClassifier was fitted with feature names\n",
      "  warnings.warn(\n"
     ]
    }
   ],
   "source": [
    "prediction = dt.predict(test)\n",
    "print(prediction[0])"
   ]
  },
  {
   "cell_type": "code",
   "execution_count": null,
   "id": "201e090d",
   "metadata": {},
   "outputs": [],
   "source": []
  }
 ],
 "metadata": {
  "kernelspec": {
   "display_name": "Python 3 (ipykernel)",
   "language": "python",
   "name": "python3"
  },
  "language_info": {
   "codemirror_mode": {
    "name": "ipython",
    "version": 3
   },
   "file_extension": ".py",
   "mimetype": "text/x-python",
   "name": "python",
   "nbconvert_exporter": "python",
   "pygments_lexer": "ipython3",
   "version": "3.11.5"
  }
 },
 "nbformat": 4,
 "nbformat_minor": 5
}
